{
 "cells": [
  {
   "cell_type": "code",
   "execution_count": 1,
   "metadata": {},
   "outputs": [],
   "source": [
    "import numpy as np\n",
    "from numpy.linalg import lstsq\n",
    "\n",
    "ramp = lambda u: np.maximum( u, 0 )\n",
    "step = lambda u: ( u > 0 ).astype(float)\n",
    "\n",
    "def SegmentedLinearReg( X, Y, breakpoints ):\n",
    "    nIterationMax = 10\n",
    "\n",
    "    breakpoints = np.sort( np.array(breakpoints) )\n",
    "\n",
    "    dt = np.min( np.diff(X) )\n",
    "    ones = np.ones_like(X)\n",
    "\n",
    "    for i in range( nIterationMax ):\n",
    "        # Linear regression:  solve A*p = Y\n",
    "        Rk = [ramp( X - xk ) for xk in breakpoints ]\n",
    "        Sk = [step( X - xk ) for xk in breakpoints ]\n",
    "        A = np.array([ ones, X ] + Rk + Sk )\n",
    "        p =  lstsq(A.transpose(), Y, rcond=None)[0] \n",
    "\n",
    "        # Parameters identification:\n",
    "        a, b = p[0:2]\n",
    "        ck = p[ 2:2+len(breakpoints) ]\n",
    "        dk = p[ 2+len(breakpoints): ]\n",
    "\n",
    "        # Estimation of the next break-points:\n",
    "        newBreakpoints = breakpoints - dk/ck \n",
    "\n",
    "        # Stop condition\n",
    "        if np.max(np.abs(newBreakpoints - breakpoints)) < dt/5:\n",
    "            break\n",
    "\n",
    "        breakpoints = newBreakpoints\n",
    "    else:\n",
    "        print( 'maximum iteration reached' )\n",
    "\n",
    "    # Compute the final segmented fit:\n",
    "    Xsolution = np.insert( np.append( breakpoints, max(X) ), 0, min(X) )\n",
    "    ones =  np.ones_like(Xsolution) \n",
    "    Rk = [ c*ramp( Xsolution - x0 ) for x0, c in zip(breakpoints, ck) ]\n",
    "\n",
    "    Ysolution = a*ones + b*Xsolution + np.sum( Rk, axis=0 )\n",
    "    print(\"break points:\", breakpoints)\n",
    "\n",
    "    return Xsolution, Ysolution"
   ]
  },
  {
   "cell_type": "code",
   "execution_count": 6,
   "metadata": {},
   "outputs": [
    {
     "name": "stderr",
     "output_type": "stream",
     "text": [
      "/Users/jhkim/opt/anaconda3/lib/python3.8/site-packages/scipy/optimize/minpack.py:828: OptimizeWarning: Covariance of the parameters could not be estimated\n",
      "  warnings.warn('Covariance of the parameters could not be estimated',\n"
     ]
    },
    {
     "data": {
      "image/png": "[encoded data removed]",
      "text/plain": [
       "<Figure size 648x216 with 1 Axes>"
      ]
     },
     "metadata": {
      "needs_background": "light"
     },
     "output_type": "display_data"
    }
   ],
   "source": [
    "import numpy as np\n",
    "import matplotlib.pyplot as plt\n",
    "from scipy import optimize\n",
    "\n",
    "from patsy import dmatrix\n",
    "import statsmodels.api as sm\n",
    "import statsmodels.formula.api as smf\n",
    "from scipy import optimize\n",
    "\n",
    "np.random.seed(0)\n",
    "\n",
    "x_ = np.linspace(-1, 1, 2000)\n",
    "y_ = np.cos(x_) + 0.3*np.random.rand(2000)\n",
    "\n",
    "x = np.array([1.,3.,5.,7.,9.,11.,13.,16.,20.5,25.5,31.,37.,43.75,51.25,60.,70.,81.25,93.75])\n",
    "# region 2\n",
    "y = np.array([0.93798484, 0.9465644,  0.93694724, 0.93641232, 0.94720683, 0.97291458,\n",
    "            0.99444424, 1.02197827, 1.0625216,  1.08631556, 1.08899024, 1.08700386,\n",
    "              1.06341353, 1.04584694, 1.02962848, 1.0312275,  1.01668811, 1.01632768])\n",
    "\n",
    "y_muon = np.array([0.93567666, 0.94973207, 0.93676095, 0.93446826, 0.94815744, 0.97089251,\n",
    "                   0.99758456, 1.02561451, 1.05964713, 1.08903241, 1.09468342, 1.08065525,\n",
    "                   1.06544626, 1.04263896, 1.03402147, 1.02252066, 1.01610139, 1.00448026\n",
    "                  ])\n",
    "\n",
    "# region 2 2017\n",
    "#y = np.array([1.32737966, 1.26082732, 1.13012394, 1.00433466, 0.93384785, 0.89905102,\n",
    "#             0.88466971, 0.87854865, 0.89107385, 0.91722749, 0.96068111, 0.98304949,\n",
    "#             0.99861931, 0.99186079, 0.99654658, 0.9938622,  0.99091709, 0.99159343])\n",
    "\n",
    "#y_muon = np.array([1.33624175, 1.26272433, 1.1148753,  0.98756807, 0.91943575, 0.89285799,\n",
    "#                  0.88040464, 0.87792476, 0.89418432, 0.91656885, 0.95840803, 0.996465,\n",
    "#                  1.00440976, 1.00631142, 0.99851868, 1.00192182, 0.99763982, 0.99611084])\n",
    "\n",
    "# region 3 2018\n",
    "\n",
    "#y = np.array([1.32032365, 1.25049125, 1.12647904, 1.00178303, 0.92927389, 0.89790256,\n",
    "#             0.87491761, 0.87062492, 0.88419814, 0.91011939, 0.95739222, 1.00234957,\n",
    "#             1.01845783, 1.02222449, 1.02262733, 1.02960845, 1.02640614, 1.0505977])\n",
    "\n",
    "#y_muon = np.array([1.32750368, 1.2564965,  1.11297694, 0.98227927, 0.91680713, 0.88913029,\n",
    "#             0.87571188, 0.87319709, 0.88466552, 0.91290644, 0.95912749, 1.00751859,\n",
    "#             1.0234516,  1.0253404,  1.02599019, 1.03562598, 1.04338227, 1.0346472])\n",
    "\n",
    "# region 0\n",
    "#y = np.array([0.86801505, 0.9291349,  0.90651866, 0.91523914, 0.94960936, 0.93381399,\n",
    "#             0.97986787, 0.97427153, 1.02922837, 1.02955109, 1.04358923, 1.01337227,\n",
    "#             1.03766124, 0.97928631, 0.96224762, 0.96398895, 1.09229753, 0.88968224])\n",
    "\n",
    "# region 1\n",
    "#y = np.array([0.9009115,  0.90355784, 0.90372454, 0.91365913, 0.91517393, 0.94715262,\n",
    "#             0.95827249, 0.97294396, 1.00659279, 1.03722108, 1.04279975, 1.02264748,\n",
    "#             1.0292197,  1.0259291,  0.98410816, 0.98750379, 0.91472193, 0.97399101])\n",
    "\n",
    "# region 3\n",
    "#y = np.array([0.90753963, 0.90949884, 0.90251483, 0.90349954, 0.92324253, 0.92151621,\n",
    "#             0.95480787, 0.96552632, 1.00808998, 1.06997776, 1.05816545, 1.02598357,\n",
    "#             0.99142115, 0.9772264,  0.9970756,  1.00455321, 0.95007573, 0.98454824])\n",
    "\n",
    "# region 4\n",
    "#y = np.array([0.78477745, 0.79211599, 0.7816137,  0.85813896, 0.85332221, 0.85535435,\n",
    "#             0.85231623, 0.95423788, 0.95117381, 0.96447854, 1.0094746,  0.83440693,\n",
    "#             0.99233016, 0.9598667,  0.84213592, 0.85708658, 1.01650119, 1.01429231])\n",
    "\n",
    "# region 5\n",
    "#y = np.array([0.72727193, 0.65211503, 0.80169465, 0.7001711,  0.80150568, 0.94195794,\n",
    "#             0.88946919, 0.86939669, 0.81453333, 0.86482016, 0.86524934, 1.06928487,\n",
    "#             1.03454639, 0.91340263, 1.07544811, 0.87615795, 0.9457523,  1.24813963])\n",
    "\n",
    "'''\n",
    "x = np.array([ \n",
    "       107.  , 109.  , 111.25, 113.75, 116.25, 118.75, 121.5 , 124.5 ,\n",
    "       127.75, 131.25, 135.  , 139.  , 143.25, 147.75, 152.5 , 157.5 ,\n",
    "       162.75, 168.25, 174.5 , 181.5 , 188.75, 196.25, 205.  , 215.  ,\n",
    "       225.75, 237.25, 250.5 , 265.5 , 284.75, 308.25, 335.  , 365.  ,\n",
    "       395.  , 425.  , 457.5 , 492.5 , 532.5 , 577.5 , 625.  , 675.  ,\n",
    " ])\n",
    "\n",
    "y = np.array([\n",
    "        1.43421613e+03,  6.61367049e+02,  2.91763752e+02,  1.96630592e+02,\n",
    "        1.21241411e+02,  9.98337908e+01,  7.28460606e+01,  6.21572586e+01,\n",
    "        5.31752071e+01,  2.11735073e+01,  3.34063610e+01,  3.82002216e+01,\n",
    "        2.44379701e+01,  1.25210061e+01,  9.10271207e+00,  1.12138593e+01,\n",
    "        1.09894106e+01,  3.42602104e+00,  4.37388898e+00,  2.54843816e+00,\n",
    "        3.68718215e+00,  2.70034712e+00,  1.52584234e-01,  2.48591507e+00,\n",
    "        1.06995300e+00,  1.03321264e+00,  1.20127987e+00,  1.44953143e+00,\n",
    "        5.33837005e-01,  1.31092324e+00,  4.26358049e-01,  8.22622755e-01,\n",
    "        9.14337903e-01,  2.49502366e-02,  1.18326229e-01,  3.71319698e-02,\n",
    "        5.14912805e-03,  2.89915789e-02,  2.89915789e-02,  3.13763539e-02,\n",
    " ])\n",
    "'''\n",
    "\n",
    "p_che = np.polynomial.Chebyshev.fit(x, y, 3)\n",
    "\n",
    "initialBreakpoints = [1, 60]\n",
    "#plt.plot( *SegmentedLinearReg( x, y, initialBreakpoints ), 'k--', lw=1);\n",
    "\n",
    "xp = np.linspace(1, 1000, 10000)\n",
    "\n",
    "# Generating cubic spline with 3 knots at 25, 40 and 60\n",
    "transformed_x = dmatrix(\"bs(train, knots=(10, 12.5, 20, 40), degree=3, include_intercept=False)\", {\"train\": x})\n",
    "#transformed_x = dmatrix(\"cr(x, df=6, knots=[13, 20, 35, 50])\")\n",
    "\n",
    "# Fitting Generalised linear model on transformed dataset\n",
    "fit1 = sm.GLM(y, transformed_x).fit()\n",
    "# Prediction\n",
    "#pred1 = fit1.predict(dmatrix(\"bs(valid, knots=(10, 12.5, 20, 40), include_intercept=False)\", {\"valid\": xp}))\n",
    "#pred1 = fit1.predict(dmatrix(\"cr(xp, df=6,knots=[13, 20, 35, 50])\"))\n",
    "\n",
    "\n",
    "fig, ax = plt.subplots(figsize=(9,3))\n",
    "\n",
    "#ax.plot(xp, pred1, 'k--', label='Specifying degree =3 with 3 knots')\n",
    "\n",
    "# region 0\n",
    "#cut = 11.\n",
    "#cut2 = 20.\n",
    "#cut3 = 40\n",
    "#cut4 = 60\n",
    "\n",
    "# region 1\n",
    "#cut = 7.\n",
    "#cut2 = 18.\n",
    "#cut3 = 60\n",
    "#cut4 = 68\n",
    "\n",
    "# region 2\n",
    "cut = 7.\n",
    "cut2 = 20.\n",
    "cut3 = 40\n",
    "cut4 = 70\n",
    "\n",
    "# region 3\n",
    "#cut = 11.\n",
    "#cut2 = 20.\n",
    "#cut3 = 40\n",
    "#cut4 = 65\n",
    "\n",
    "# region 4\n",
    "#cut = 11.\n",
    "#cut2 = 20.\n",
    "#cut3 = 35\n",
    "#cut4 = 35\n",
    "\n",
    "# region 5\n",
    "#cut = 11.\n",
    "#cut2 = 20.\n",
    "#cut3 = 35\n",
    "#cut4 = 35\n",
    "\n",
    "def piecewise_linear(x, a00, a01, a02, a03, a13, a23, a33, a43):\n",
    "    \n",
    "    \n",
    "    return np.piecewise(x, [x < cut, x > cut, x > cut2, x > cut3, x > cut4], [\n",
    "                                                          lambda x: a00 + a01 * x + a02 * x**2 + a03 * x**3,      \n",
    "                                                          lambda x: a00 + cut**3 * (a03-a13) + (a01 - 3 * cut**2*(a03-a13)) * x + (a02 + 3 * cut * (a03-a13)) * x**2 + a13 * x **3,\n",
    "                                                          lambda x: (a00 + cut**3 * (a03-a13)) + cut2**3 * (a13-a23) + ((a01 - 3 * cut**2*(a03-a13)) - 3 * cut2**2*(a13-a23)) * x + ((a02 + 3 * cut * (a03-a13)) + 3 * cut2 * (a13-a23)) * x**2 + a23 * x**3,\n",
    "        \n",
    "                                                          lambda x: ((a00 + cut**3 * (a03-a13)) + cut2**3 * (a13-a23)) + cut3**3 * (a23-a33) + \\\n",
    "                                                                    ( ((a01 - 3 * cut**2*(a03-a13)) - 3 * cut2**2*(a13-a23)) - 3 * cut3**2*(a23-a33) ) * x + \\\n",
    "                                                                    ( ((a02 + 3 * cut * (a03-a13)) + 3 * cut2 * (a13-a23)) + 3 * cut3 * (a23-a33)) * x**2 + \\\n",
    "                                                                    a33 * x**3,\n",
    "                                                          lambda x: ((a00 + cut**3 * (a03-a13)) + cut2**3 * (a13-a23)) + cut3**3 * (a23-a33) + \\\n",
    "                                                                    ( ((a01 - 3 * cut**2*(a03-a13)) - 3 * cut2**2*(a13-a23)) - 3 * cut3**2*(a23-a33) ) * cut4+ \\\n",
    "                                                                    ( ((a02 + 3 * cut * (a03-a13)) + 3 * cut2 * (a13-a23)) + 3 * cut3 * (a23-a33)) * cut4**2 + \\\n",
    "                                                                    a33 * cut4**3,\n",
    "                                                         ])\n",
    "'''\n",
    "\n",
    "cut = 300\n",
    "def piecewise_linear(x, a, b, c, d, e, f, g, h, i, j):\n",
    "    \n",
    "    \n",
    "    return np.piecewise(x, [x < cut], [\n",
    "                                       lambda x:  \n",
    "                                                   (x **(a + b * np.log(x)))  \\\n",
    "                                                   + (x **(c + d * np.log(x))) \\\n",
    "                                                   #+(x **(e + f * np.log(x)))  \\\n",
    "        \n",
    "                                                   #+ g * (1 + (h * x** 2 + i * x**3))** j,\n",
    "                                    \n",
    "    ])\n",
    "\n",
    "p, e = optimize.curve_fit(piecewise_linear, x, y)\n",
    "#p_muon, e_muon = optimize.curve_fit(piecewise_linear, x, y_muon)\n",
    "ax.set_yscale(\"log\")  \n",
    "#ax.set_xscale(\"log\")\n",
    "\n",
    "#y_test = np.exp(-0.01*xp)\n",
    "y_test = (xp **(p[0] + p[1] * np.log(xp)))  \\\n",
    "       + (xp **(p[2] + p[3] * np.log(xp))) \\\n",
    "       + (xp **(p[4] + p[5] * np.log(xp)))  \\\n",
    "       + p[6] * (1 + (p[7] * xp** 2 + p[8] * xp**3))** p[9]\n",
    "\n",
    "'''\n",
    "p, e = optimize.curve_fit(piecewise_linear, x, y)\n",
    "#ax.set_ylim(1e-10, 1e20) \n",
    "ax.set_xlim(1, 100) \n",
    "ax.plot(x, y, 'r.', label=\"electron\")\n",
    "#ax.plot(xp, y_test, 'b--', linewidth = 0.7)\n",
    "#ax.plot(x, y_muon, 'b.', label=\"muon\")\n",
    "#plt.plot(x, p(x), 'k-', lw=1)\n",
    "ax.axhline(1., color='black', linewidth=0.7, zorder=5)\n",
    "ax.plot(xp, piecewise_linear(xp, *p), 'r-', linewidth=0.7)\n",
    "#ax.plot(xp, y_test, 'b--', linewidth = 0.7)\n",
    "#ax.plot(xp, piecewise_linear(xp, *p_muon), 'b-', linewidth=0.5)\n",
    "plt.tight_layout()\n",
    "plt.legend(loc='upper right')\n",
    "plt.savefig(\"zptweight.pdf\", format=\"pdf\", dpi=300) \n"
   ]
  },
  {
   "cell_type": "code",
   "execution_count": 12,
   "metadata": {},
   "outputs": [
    {
     "data": {
      "text/plain": [
       "array([ 1.10248537e+01, -2.11844405e+00,  4.69167431e+00, -8.62982426e-01,\n",
       "        5.48108769e+01, -1.14041724e+01, -3.87159114e+06,  3.08649514e+09,\n",
       "       -3.87386240e+06, -7.64504326e+06])"
      ]
     },
     "execution_count": 12,
     "metadata": {},
     "output_type": "execute_result"
    }
   ],
   "source": [
    "p"
   ]
  },
  {
   "cell_type": "markdown",
   "metadata": {},
   "source": [
    "# Piecese-wise fit"
   ]
  },
  {
   "cell_type": "code",
   "execution_count": null,
   "metadata": {},
   "outputs": [],
   "source": [
    "# import modules\n",
    "import pandas as pd\n",
    "import numpy as np\n",
    "import statsmodels.api as sm\n",
    "import matplotlib.pyplot as plt \n",
    "%matplotlib inline"
   ]
  },
  {
   "cell_type": "code",
   "execution_count": null,
   "metadata": {},
   "outputs": [],
   "source": [
    "# read data_set\n",
    "data = pd.read_csv(\"/Users/jhkim/Downloads/Wage.csv\")"
   ]
  },
  {
   "cell_type": "code",
   "execution_count": null,
   "metadata": {},
   "outputs": [],
   "source": [
    "data.head()"
   ]
  },
  {
   "cell_type": "code",
   "execution_count": null,
   "metadata": {},
   "outputs": [],
   "source": [
    "data_x = np.array(data['age'])\n",
    "data_y = np.array(data['wage'])"
   ]
  },
  {
   "cell_type": "code",
   "execution_count": null,
   "metadata": {},
   "outputs": [],
   "source": [
    "data_x"
   ]
  },
  {
   "cell_type": "code",
   "execution_count": null,
   "metadata": {},
   "outputs": [],
   "source": [
    "# Dividing data into train and validation datasets\n",
    "from sklearn.model_selection import train_test_split\n",
    "train_x, valid_x, train_y, valid_y = train_test_split(data_x, data_y, test_size=0.33, random_state = 1)"
   ]
  },
  {
   "cell_type": "code",
   "execution_count": null,
   "metadata": {},
   "outputs": [],
   "source": [
    "import matplotlib.pyplot as plt\n",
    "plt.scatter(train_x, train_y, facecolor='None', edgecolor='k', alpha=0.3)\n",
    "plt.show()"
   ]
  },
  {
   "cell_type": "code",
   "execution_count": null,
   "metadata": {},
   "outputs": [],
   "source": [
    "from sklearn.linear_model import LinearRegression\n",
    "\n",
    "# Fitting linear regression model\n",
    "x = np.array(train_x).reshape(-1,1)\n",
    "model = LinearRegression()\n",
    "model.fit(x, np.array(train_y))\n",
    "print(model.coef_)\n",
    "print(model.intercept_)"
   ]
  },
  {
   "cell_type": "code",
   "execution_count": null,
   "metadata": {},
   "outputs": [],
   "source": [
    "type(np.array(train_x))"
   ]
  },
  {
   "cell_type": "code",
   "execution_count": null,
   "metadata": {},
   "outputs": [],
   "source": [
    "# Prediction on validation dataset\n",
    "valid_x = np.array(valid_x).reshape(-1,1)\n",
    "pred = model.predict(valid_x)"
   ]
  },
  {
   "cell_type": "code",
   "execution_count": null,
   "metadata": {},
   "outputs": [],
   "source": [
    "# Visualisation\n",
    "# We will use 70 plots between minimum and maximum values of valid_x for plotting\n",
    "xp = np.linspace(valid_x.min(),valid_x.max(),70)\n",
    "xp = xp.reshape(-1,1)\n",
    "pred_plot = model.predict(xp)\n",
    "\n",
    "plt.scatter(valid_x, valid_y, facecolor='None', edgecolor='k', alpha=0.3)\n",
    "plt.plot(xp, pred_plot)\n",
    "plt.show()"
   ]
  },
  {
   "cell_type": "code",
   "execution_count": null,
   "metadata": {},
   "outputs": [],
   "source": [
    "# Generating weights for polynomial function with degree =2\n",
    "weights = np.polyfit(train_x, train_y, 2)\n",
    "print(weights)\n",
    "\n"
   ]
  },
  {
   "cell_type": "code",
   "execution_count": null,
   "metadata": {},
   "outputs": [],
   "source": [
    "# Generating model with the given weights\n",
    "model = np.poly1d(weights)"
   ]
  },
  {
   "cell_type": "code",
   "execution_count": null,
   "metadata": {},
   "outputs": [],
   "source": [
    "# Prediction on validation set\n",
    "pred = model(valid_x)\n",
    "# We will plot the graph for 70 observations only\n",
    "xp = np.linspace(valid_x.min(),valid_x.max(),70)\n",
    "pred_plot = model(xp)\n",
    "plt.scatter(valid_x, valid_y, facecolor='None', edgecolor='k', alpha=0.3)\n",
    "plt.plot(xp, pred_plot)\n",
    "plt.show()"
   ]
  },
  {
   "cell_type": "code",
   "execution_count": null,
   "metadata": {},
   "outputs": [],
   "source": [
    "# Dividing the data into 4 bins\n",
    "df_cut, bins = pd.cut(train_x, 4, retbins=True, right=True)\n",
    "df_cut.value_counts(sort=False)"
   ]
  },
  {
   "cell_type": "code",
   "execution_count": null,
   "metadata": {},
   "outputs": [],
   "source": [
    "df_steps = pd.concat([train_x, df_cut, train_y], keys=['age','age_cuts','wage'], axis=1)\n",
    "\n",
    "# Create dummy variables for the age groups\n",
    "df_steps_dummies = pd.get_dummies(df_cut)\n",
    "df_steps_dummies.head()"
   ]
  },
  {
   "cell_type": "code",
   "execution_count": null,
   "metadata": {},
   "outputs": [],
   "source": [
    "from patsy import dmatrix\n",
    "import statsmodels.api as sm\n",
    "import statsmodels.formula.api as smf"
   ]
  },
  {
   "cell_type": "code",
   "execution_count": null,
   "metadata": {},
   "outputs": [],
   "source": [
    "# Generating cubic spline with 3 knots at 25, 40 and 60\n",
    "transformed_x = dmatrix(\"bs(train, knots=(25,40,60), degree=3, include_intercept=False)\", {\"train\": train_x})\n"
   ]
  },
  {
   "cell_type": "code",
   "execution_count": null,
   "metadata": {},
   "outputs": [],
   "source": [
    "# Fitting Generalised linear model on transformed dataset\n",
    "fit1 = sm.GLM(train_y, transformed_x).fit()"
   ]
  },
  {
   "cell_type": "code",
   "execution_count": null,
   "metadata": {},
   "outputs": [],
   "source": [
    "# Generating cubic spline with 4 knots\n",
    "transformed_x2 = dmatrix(\"bs(train, knots=(25,40,50,65),degree =3, include_intercept=False)\", {\"train\": train_x})"
   ]
  },
  {
   "cell_type": "code",
   "execution_count": null,
   "metadata": {},
   "outputs": [],
   "source": [
    "# Fitting Generalised linear model on transformed dataset\n",
    "fit2 = sm.GLM(train_y, transformed_x2).fit()"
   ]
  },
  {
   "cell_type": "code",
   "execution_count": null,
   "metadata": {},
   "outputs": [],
   "source": [
    "# Predictions on both splines\n",
    "pred1 = fit1.predict(dmatrix(\"bs(valid, knots=(25,40,60), include_intercept=False)\", {\"valid\": valid_x}))\n",
    "pred2 = fit2.predict(dmatrix(\"bs(valid, knots=(25,40,50,65),degree =3, include_intercept=False)\", {\"valid\": valid_x}))"
   ]
  },
  {
   "cell_type": "code",
   "execution_count": null,
   "metadata": {},
   "outputs": [],
   "source": [
    "# We will plot the graph for 70 observations only\n",
    "xp = np.linspace(valid_x.min(),valid_x.max(),70)\n",
    "\n",
    "# Make some predictions\n",
    "pred1 = fit1.predict(dmatrix(\"bs(xp, knots=(25,40,60), include_intercept=False)\", {\"xp\": xp}, return_type='dataframe'))\n",
    "pred2 = fit2.predict(dmatrix(\"bs(xp, knots=(25,40,50,65),degree =3, include_intercept=False)\", {\"xp\": xp}, return_type='dataframe'))\n",
    "\n",
    "# Plot the splines and error bands\n",
    "plt.scatter(data.age, data.wage, facecolor='None', edgecolor='k', alpha=0.1)\n",
    "plt.plot(xp, pred1, label='Specifying degree =3 with 3 knots')\n",
    "plt.plot(xp, pred2, color='r', label='Specifying degree =3 with 4 knots')\n",
    "plt.legend()\n",
    "plt.xlim(15,85)\n",
    "plt.ylim(0,350)\n",
    "plt.xlabel('age')\n",
    "plt.ylabel('wage')\n",
    "plt.show()"
   ]
  },
  {
   "cell_type": "code",
   "execution_count": null,
   "metadata": {},
   "outputs": [],
   "source": [
    "type(transformed_x)"
   ]
  },
  {
   "cell_type": "code",
   "execution_count": null,
   "metadata": {},
   "outputs": [],
   "source": [
    "transformed_x"
   ]
  },
  {
   "cell_type": "code",
   "execution_count": null,
   "metadata": {},
   "outputs": [],
   "source": [
    "type(train_x)"
   ]
  },
  {
   "cell_type": "code",
   "execution_count": null,
   "metadata": {},
   "outputs": [],
   "source": [
    "train_x"
   ]
  },
  {
   "cell_type": "code",
   "execution_count": null,
   "metadata": {},
   "outputs": [],
   "source": [
    "pred1"
   ]
  },
  {
   "cell_type": "code",
   "execution_count": null,
   "metadata": {},
   "outputs": [],
   "source": []
  }
 ],
 "metadata": {
  "kernelspec": {
   "display_name": "Python 3",
   "language": "python",
   "name": "python3"
  },
  "language_info": {
   "codemirror_mode": {
    "name": "ipython",
    "version": 3
   },
   "file_extension": ".py",
   "mimetype": "text/x-python",
   "name": "python",
   "nbconvert_exporter": "python",
   "pygments_lexer": "ipython3",
   "version": "3.8.5"
  }
 },
 "nbformat": 4,
 "nbformat_minor": 4
}
